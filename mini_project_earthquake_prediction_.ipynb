{
 "cells": [
  {
   "cell_type": "code",
   "execution_count": 2,
   "metadata": {
    "id": "0ogJ3vZb_1hu"
   },
   "outputs": [],
   "source": [
    "#importing libraries\n",
    "import numpy as np\n",
    "import pandas as pd\n",
    "import matplotlib.pyplot as plt\n",
    "import seaborn as sns\n",
    "\n",
    "from sklearn.preprocessing import StandardScaler\n",
    "from sklearn.model_selection import train_test_split\n",
    "\n"
   ]
  },
  {
   "cell_type": "code",
   "execution_count": 3,
   "metadata": {
    "colab": {
     "base_uri": "https://localhost:8080/",
     "height": 525
    },
    "id": "bx6r4Q-Y_2R9",
    "outputId": "10f15656-48d3-49ef-eeb5-64932f07351b"
   },
   "outputs": [
    {
     "data": {
      "text/html": [
       "<div>\n",
       "<style scoped>\n",
       "    .dataframe tbody tr th:only-of-type {\n",
       "        vertical-align: middle;\n",
       "    }\n",
       "\n",
       "    .dataframe tbody tr th {\n",
       "        vertical-align: top;\n",
       "    }\n",
       "\n",
       "    .dataframe thead th {\n",
       "        text-align: right;\n",
       "    }\n",
       "</style>\n",
       "<table border=\"1\" class=\"dataframe\">\n",
       "  <thead>\n",
       "    <tr style=\"text-align: right;\">\n",
       "      <th></th>\n",
       "      <th>time</th>\n",
       "      <th>latitude</th>\n",
       "      <th>longitude</th>\n",
       "      <th>depth</th>\n",
       "      <th>mag</th>\n",
       "      <th>magType</th>\n",
       "      <th>nst</th>\n",
       "      <th>gap</th>\n",
       "      <th>dmin</th>\n",
       "      <th>rms</th>\n",
       "      <th>...</th>\n",
       "      <th>updated</th>\n",
       "      <th>place</th>\n",
       "      <th>type</th>\n",
       "      <th>horizontalError</th>\n",
       "      <th>depthError</th>\n",
       "      <th>magError</th>\n",
       "      <th>magNst</th>\n",
       "      <th>status</th>\n",
       "      <th>locationSource</th>\n",
       "      <th>magSource</th>\n",
       "    </tr>\n",
       "  </thead>\n",
       "  <tbody>\n",
       "    <tr>\n",
       "      <th>0</th>\n",
       "      <td>2019-01-01T22:05:38.960Z</td>\n",
       "      <td>35.6831</td>\n",
       "      <td>140.2344</td>\n",
       "      <td>66.24</td>\n",
       "      <td>4.4</td>\n",
       "      <td>mb</td>\n",
       "      <td>NaN</td>\n",
       "      <td>141.0</td>\n",
       "      <td>1.855</td>\n",
       "      <td>0.66</td>\n",
       "      <td>...</td>\n",
       "      <td>2019-03-08T17:50:13.040Z</td>\n",
       "      <td>3 km S of Sakura, Japan</td>\n",
       "      <td>earthquake</td>\n",
       "      <td>2.9</td>\n",
       "      <td>8.6</td>\n",
       "      <td>0.115</td>\n",
       "      <td>22</td>\n",
       "      <td>reviewed</td>\n",
       "      <td>us</td>\n",
       "      <td>us</td>\n",
       "    </tr>\n",
       "    <tr>\n",
       "      <th>1</th>\n",
       "      <td>2019-01-02T15:11:16.070Z</td>\n",
       "      <td>39.4417</td>\n",
       "      <td>143.6408</td>\n",
       "      <td>21.01</td>\n",
       "      <td>4.5</td>\n",
       "      <td>mb</td>\n",
       "      <td>NaN</td>\n",
       "      <td>110.0</td>\n",
       "      <td>2.390</td>\n",
       "      <td>0.85</td>\n",
       "      <td>...</td>\n",
       "      <td>2019-03-08T17:50:21.040Z</td>\n",
       "      <td>145 km E of Yamada, Japan</td>\n",
       "      <td>earthquake</td>\n",
       "      <td>9.1</td>\n",
       "      <td>6.4</td>\n",
       "      <td>0.180</td>\n",
       "      <td>9</td>\n",
       "      <td>reviewed</td>\n",
       "      <td>us</td>\n",
       "      <td>us</td>\n",
       "    </tr>\n",
       "    <tr>\n",
       "      <th>2</th>\n",
       "      <td>2019-01-03T09:10:28.440Z</td>\n",
       "      <td>33.0514</td>\n",
       "      <td>130.4705</td>\n",
       "      <td>10.00</td>\n",
       "      <td>4.7</td>\n",
       "      <td>mb</td>\n",
       "      <td>NaN</td>\n",
       "      <td>97.0</td>\n",
       "      <td>0.348</td>\n",
       "      <td>0.60</td>\n",
       "      <td>...</td>\n",
       "      <td>2020-07-10T17:21:55.993Z</td>\n",
       "      <td>2 km NE of ?muta, Japan</td>\n",
       "      <td>earthquake</td>\n",
       "      <td>4.9</td>\n",
       "      <td>1.8</td>\n",
       "      <td>0.075</td>\n",
       "      <td>54</td>\n",
       "      <td>reviewed</td>\n",
       "      <td>us</td>\n",
       "      <td>us</td>\n",
       "    </tr>\n",
       "    <tr>\n",
       "      <th>3</th>\n",
       "      <td>2019-01-03T20:42:45.260Z</td>\n",
       "      <td>30.3888</td>\n",
       "      <td>138.0987</td>\n",
       "      <td>451.33</td>\n",
       "      <td>4.0</td>\n",
       "      <td>mb</td>\n",
       "      <td>NaN</td>\n",
       "      <td>113.0</td>\n",
       "      <td>3.085</td>\n",
       "      <td>0.75</td>\n",
       "      <td>...</td>\n",
       "      <td>2019-03-08T17:50:21.040Z</td>\n",
       "      <td>Izu Islands, Japan region</td>\n",
       "      <td>earthquake</td>\n",
       "      <td>11.0</td>\n",
       "      <td>5.8</td>\n",
       "      <td>0.073</td>\n",
       "      <td>50</td>\n",
       "      <td>reviewed</td>\n",
       "      <td>us</td>\n",
       "      <td>us</td>\n",
       "    </tr>\n",
       "    <tr>\n",
       "      <th>4</th>\n",
       "      <td>2019-01-04T22:05:07.080Z</td>\n",
       "      <td>32.8198</td>\n",
       "      <td>140.1248</td>\n",
       "      <td>98.35</td>\n",
       "      <td>4.3</td>\n",
       "      <td>mb</td>\n",
       "      <td>NaN</td>\n",
       "      <td>147.0</td>\n",
       "      <td>0.394</td>\n",
       "      <td>0.46</td>\n",
       "      <td>...</td>\n",
       "      <td>2019-03-08T17:50:21.040Z</td>\n",
       "      <td>233 km SSE of Shimoda, Japan</td>\n",
       "      <td>earthquake</td>\n",
       "      <td>12.0</td>\n",
       "      <td>4.7</td>\n",
       "      <td>0.080</td>\n",
       "      <td>44</td>\n",
       "      <td>reviewed</td>\n",
       "      <td>us</td>\n",
       "      <td>us</td>\n",
       "    </tr>\n",
       "  </tbody>\n",
       "</table>\n",
       "<p>5 rows × 22 columns</p>\n",
       "</div>"
      ],
      "text/plain": [
       "                       time  latitude  longitude   depth  mag magType  nst  \\\n",
       "0  2019-01-01T22:05:38.960Z   35.6831   140.2344   66.24  4.4      mb  NaN   \n",
       "1  2019-01-02T15:11:16.070Z   39.4417   143.6408   21.01  4.5      mb  NaN   \n",
       "2  2019-01-03T09:10:28.440Z   33.0514   130.4705   10.00  4.7      mb  NaN   \n",
       "3  2019-01-03T20:42:45.260Z   30.3888   138.0987  451.33  4.0      mb  NaN   \n",
       "4  2019-01-04T22:05:07.080Z   32.8198   140.1248   98.35  4.3      mb  NaN   \n",
       "\n",
       "     gap   dmin   rms  ...                   updated  \\\n",
       "0  141.0  1.855  0.66  ...  2019-03-08T17:50:13.040Z   \n",
       "1  110.0  2.390  0.85  ...  2019-03-08T17:50:21.040Z   \n",
       "2   97.0  0.348  0.60  ...  2020-07-10T17:21:55.993Z   \n",
       "3  113.0  3.085  0.75  ...  2019-03-08T17:50:21.040Z   \n",
       "4  147.0  0.394  0.46  ...  2019-03-08T17:50:21.040Z   \n",
       "\n",
       "                          place        type horizontalError depthError  \\\n",
       "0       3 km S of Sakura, Japan  earthquake             2.9        8.6   \n",
       "1     145 km E of Yamada, Japan  earthquake             9.1        6.4   \n",
       "2       2 km NE of ?muta, Japan  earthquake             4.9        1.8   \n",
       "3     Izu Islands, Japan region  earthquake            11.0        5.8   \n",
       "4  233 km SSE of Shimoda, Japan  earthquake            12.0        4.7   \n",
       "\n",
       "   magError  magNst    status  locationSource magSource  \n",
       "0     0.115      22  reviewed              us        us  \n",
       "1     0.180       9  reviewed              us        us  \n",
       "2     0.075      54  reviewed              us        us  \n",
       "3     0.073      50  reviewed              us        us  \n",
       "4     0.080      44  reviewed              us        us  \n",
       "\n",
       "[5 rows x 22 columns]"
      ]
     },
     "execution_count": 3,
     "metadata": {},
     "output_type": "execute_result"
    }
   ],
   "source": [
    "#importing dataset\n",
    "df = pd.read_csv(\"earthquake.csv\")\n",
    "df.head()"
   ]
  },
  {
   "cell_type": "code",
   "execution_count": 4,
   "metadata": {
    "colab": {
     "base_uri": "https://localhost:8080/"
    },
    "id": "b4uOhTel_-ZM",
    "outputId": "0bfef6e5-864b-468a-ff0a-ef6775a8281a"
   },
   "outputs": [
    {
     "data": {
      "text/plain": [
       "(2535, 22)"
      ]
     },
     "execution_count": 4,
     "metadata": {},
     "output_type": "execute_result"
    }
   ],
   "source": [
    "#size of dataset\n",
    "df.shape"
   ]
  },
  {
   "cell_type": "code",
   "execution_count": 5,
   "metadata": {
    "colab": {
     "base_uri": "https://localhost:8080/"
    },
    "id": "iu8XkH-JABO2",
    "outputId": "149663b3-e6f9-409c-da0d-463e0baa5439"
   },
   "outputs": [
    {
     "name": "stdout",
     "output_type": "stream",
     "text": [
      "<class 'pandas.core.frame.DataFrame'>\n",
      "RangeIndex: 2535 entries, 0 to 2534\n",
      "Data columns (total 22 columns):\n",
      " #   Column           Non-Null Count  Dtype  \n",
      "---  ------           --------------  -----  \n",
      " 0   time             2535 non-null   object \n",
      " 1   latitude         2535 non-null   float64\n",
      " 2   longitude        2535 non-null   float64\n",
      " 3   depth            2535 non-null   float64\n",
      " 4   mag              2535 non-null   float64\n",
      " 5   magType          2535 non-null   object \n",
      " 6   nst              1 non-null      float64\n",
      " 7   gap              2535 non-null   float64\n",
      " 8   dmin             2535 non-null   float64\n",
      " 9   rms              2535 non-null   float64\n",
      " 10  net              2535 non-null   object \n",
      " 11  id               2535 non-null   object \n",
      " 12  updated          2535 non-null   object \n",
      " 13  place            2530 non-null   object \n",
      " 14  type             2535 non-null   object \n",
      " 15  horizontalError  2535 non-null   float64\n",
      " 16  depthError       2535 non-null   float64\n",
      " 17  magError         2534 non-null   float64\n",
      " 18  magNst           2535 non-null   int64  \n",
      " 19  status           2535 non-null   object \n",
      " 20  locationSource   2535 non-null   object \n",
      " 21  magSource        2535 non-null   object \n",
      "dtypes: float64(11), int64(1), object(10)\n",
      "memory usage: 435.8+ KB\n"
     ]
    }
   ],
   "source": [
    "#information about the dataset\n",
    "df.info()"
   ]
  },
  {
   "cell_type": "code",
   "execution_count": 6,
   "metadata": {
    "id": "fQqDVuMXADcl"
   },
   "outputs": [],
   "source": [
    "# <5 -> Safe\n",
    "# 5 - 6 -> Precautions\n",
    "# >6 -> Danger\n",
    "predictions = []\n",
    "for i in range(len(df)):\n",
    "    if df[\"mag\"][i] < 5:\n",
    "        predictions.append(\"Safe\")\n",
    "    elif 5<=df[\"mag\"][i] <= 6:\n",
    "        predictions.append(\"Precaution\")\n",
    "    else:\n",
    "        predictions.append(\"Danger\")\n",
    "df[\"predictions\"] = predictions"
   ]
  },
  {
   "cell_type": "code",
   "execution_count": 7,
   "metadata": {
    "colab": {
     "base_uri": "https://localhost:8080/",
     "height": 869
    },
    "id": "unWXHYnHAHDf",
    "outputId": "4e40744f-bf88-47df-fb28-91ece72f6612"
   },
   "outputs": [
    {
     "data": {
      "text/html": [
       "<div>\n",
       "<style scoped>\n",
       "    .dataframe tbody tr th:only-of-type {\n",
       "        vertical-align: middle;\n",
       "    }\n",
       "\n",
       "    .dataframe tbody tr th {\n",
       "        vertical-align: top;\n",
       "    }\n",
       "\n",
       "    .dataframe thead th {\n",
       "        text-align: right;\n",
       "    }\n",
       "</style>\n",
       "<table border=\"1\" class=\"dataframe\">\n",
       "  <thead>\n",
       "    <tr style=\"text-align: right;\">\n",
       "      <th></th>\n",
       "      <th>time</th>\n",
       "      <th>latitude</th>\n",
       "      <th>longitude</th>\n",
       "      <th>depth</th>\n",
       "      <th>mag</th>\n",
       "      <th>magType</th>\n",
       "      <th>nst</th>\n",
       "      <th>gap</th>\n",
       "      <th>dmin</th>\n",
       "      <th>rms</th>\n",
       "      <th>...</th>\n",
       "      <th>place</th>\n",
       "      <th>type</th>\n",
       "      <th>horizontalError</th>\n",
       "      <th>depthError</th>\n",
       "      <th>magError</th>\n",
       "      <th>magNst</th>\n",
       "      <th>status</th>\n",
       "      <th>locationSource</th>\n",
       "      <th>magSource</th>\n",
       "      <th>predictions</th>\n",
       "    </tr>\n",
       "  </thead>\n",
       "  <tbody>\n",
       "    <tr>\n",
       "      <th>0</th>\n",
       "      <td>2019-01-01T22:05:38.960Z</td>\n",
       "      <td>35.6831</td>\n",
       "      <td>140.2344</td>\n",
       "      <td>66.24</td>\n",
       "      <td>4.4</td>\n",
       "      <td>mb</td>\n",
       "      <td>NaN</td>\n",
       "      <td>141.0</td>\n",
       "      <td>1.855</td>\n",
       "      <td>0.66</td>\n",
       "      <td>...</td>\n",
       "      <td>3 km S of Sakura, Japan</td>\n",
       "      <td>earthquake</td>\n",
       "      <td>2.9</td>\n",
       "      <td>8.6</td>\n",
       "      <td>0.115</td>\n",
       "      <td>22</td>\n",
       "      <td>reviewed</td>\n",
       "      <td>us</td>\n",
       "      <td>us</td>\n",
       "      <td>Safe</td>\n",
       "    </tr>\n",
       "    <tr>\n",
       "      <th>1</th>\n",
       "      <td>2019-01-02T15:11:16.070Z</td>\n",
       "      <td>39.4417</td>\n",
       "      <td>143.6408</td>\n",
       "      <td>21.01</td>\n",
       "      <td>4.5</td>\n",
       "      <td>mb</td>\n",
       "      <td>NaN</td>\n",
       "      <td>110.0</td>\n",
       "      <td>2.390</td>\n",
       "      <td>0.85</td>\n",
       "      <td>...</td>\n",
       "      <td>145 km E of Yamada, Japan</td>\n",
       "      <td>earthquake</td>\n",
       "      <td>9.1</td>\n",
       "      <td>6.4</td>\n",
       "      <td>0.180</td>\n",
       "      <td>9</td>\n",
       "      <td>reviewed</td>\n",
       "      <td>us</td>\n",
       "      <td>us</td>\n",
       "      <td>Safe</td>\n",
       "    </tr>\n",
       "    <tr>\n",
       "      <th>2</th>\n",
       "      <td>2019-01-03T09:10:28.440Z</td>\n",
       "      <td>33.0514</td>\n",
       "      <td>130.4705</td>\n",
       "      <td>10.00</td>\n",
       "      <td>4.7</td>\n",
       "      <td>mb</td>\n",
       "      <td>NaN</td>\n",
       "      <td>97.0</td>\n",
       "      <td>0.348</td>\n",
       "      <td>0.60</td>\n",
       "      <td>...</td>\n",
       "      <td>2 km NE of ?muta, Japan</td>\n",
       "      <td>earthquake</td>\n",
       "      <td>4.9</td>\n",
       "      <td>1.8</td>\n",
       "      <td>0.075</td>\n",
       "      <td>54</td>\n",
       "      <td>reviewed</td>\n",
       "      <td>us</td>\n",
       "      <td>us</td>\n",
       "      <td>Safe</td>\n",
       "    </tr>\n",
       "    <tr>\n",
       "      <th>3</th>\n",
       "      <td>2019-01-03T20:42:45.260Z</td>\n",
       "      <td>30.3888</td>\n",
       "      <td>138.0987</td>\n",
       "      <td>451.33</td>\n",
       "      <td>4.0</td>\n",
       "      <td>mb</td>\n",
       "      <td>NaN</td>\n",
       "      <td>113.0</td>\n",
       "      <td>3.085</td>\n",
       "      <td>0.75</td>\n",
       "      <td>...</td>\n",
       "      <td>Izu Islands, Japan region</td>\n",
       "      <td>earthquake</td>\n",
       "      <td>11.0</td>\n",
       "      <td>5.8</td>\n",
       "      <td>0.073</td>\n",
       "      <td>50</td>\n",
       "      <td>reviewed</td>\n",
       "      <td>us</td>\n",
       "      <td>us</td>\n",
       "      <td>Safe</td>\n",
       "    </tr>\n",
       "    <tr>\n",
       "      <th>4</th>\n",
       "      <td>2019-01-04T22:05:07.080Z</td>\n",
       "      <td>32.8198</td>\n",
       "      <td>140.1248</td>\n",
       "      <td>98.35</td>\n",
       "      <td>4.3</td>\n",
       "      <td>mb</td>\n",
       "      <td>NaN</td>\n",
       "      <td>147.0</td>\n",
       "      <td>0.394</td>\n",
       "      <td>0.46</td>\n",
       "      <td>...</td>\n",
       "      <td>233 km SSE of Shimoda, Japan</td>\n",
       "      <td>earthquake</td>\n",
       "      <td>12.0</td>\n",
       "      <td>4.7</td>\n",
       "      <td>0.080</td>\n",
       "      <td>44</td>\n",
       "      <td>reviewed</td>\n",
       "      <td>us</td>\n",
       "      <td>us</td>\n",
       "      <td>Safe</td>\n",
       "    </tr>\n",
       "    <tr>\n",
       "      <th>...</th>\n",
       "      <td>...</td>\n",
       "      <td>...</td>\n",
       "      <td>...</td>\n",
       "      <td>...</td>\n",
       "      <td>...</td>\n",
       "      <td>...</td>\n",
       "      <td>...</td>\n",
       "      <td>...</td>\n",
       "      <td>...</td>\n",
       "      <td>...</td>\n",
       "      <td>...</td>\n",
       "      <td>...</td>\n",
       "      <td>...</td>\n",
       "      <td>...</td>\n",
       "      <td>...</td>\n",
       "      <td>...</td>\n",
       "      <td>...</td>\n",
       "      <td>...</td>\n",
       "      <td>...</td>\n",
       "      <td>...</td>\n",
       "      <td>...</td>\n",
       "    </tr>\n",
       "    <tr>\n",
       "      <th>2530</th>\n",
       "      <td>2021-12-02T09:40:40.365Z</td>\n",
       "      <td>35.2206</td>\n",
       "      <td>141.3344</td>\n",
       "      <td>26.93</td>\n",
       "      <td>4.5</td>\n",
       "      <td>mb</td>\n",
       "      <td>NaN</td>\n",
       "      <td>135.0</td>\n",
       "      <td>2.449</td>\n",
       "      <td>0.77</td>\n",
       "      <td>...</td>\n",
       "      <td>72 km SE of Hasaki, Japan</td>\n",
       "      <td>earthquake</td>\n",
       "      <td>5.7</td>\n",
       "      <td>5.6</td>\n",
       "      <td>0.140</td>\n",
       "      <td>15</td>\n",
       "      <td>reviewed</td>\n",
       "      <td>us</td>\n",
       "      <td>us</td>\n",
       "      <td>Safe</td>\n",
       "    </tr>\n",
       "    <tr>\n",
       "      <th>2531</th>\n",
       "      <td>2021-12-02T17:17:59.327Z</td>\n",
       "      <td>35.5454</td>\n",
       "      <td>139.0111</td>\n",
       "      <td>26.93</td>\n",
       "      <td>4.5</td>\n",
       "      <td>mb</td>\n",
       "      <td>NaN</td>\n",
       "      <td>114.0</td>\n",
       "      <td>1.100</td>\n",
       "      <td>0.76</td>\n",
       "      <td>...</td>\n",
       "      <td>8 km SSE of ?tsuki, Japan</td>\n",
       "      <td>earthquake</td>\n",
       "      <td>4.6</td>\n",
       "      <td>5.0</td>\n",
       "      <td>0.106</td>\n",
       "      <td>26</td>\n",
       "      <td>reviewed</td>\n",
       "      <td>us</td>\n",
       "      <td>us</td>\n",
       "      <td>Safe</td>\n",
       "    </tr>\n",
       "    <tr>\n",
       "      <th>2532</th>\n",
       "      <td>2021-12-02T20:49:15.003Z</td>\n",
       "      <td>45.7785</td>\n",
       "      <td>142.5889</td>\n",
       "      <td>315.88</td>\n",
       "      <td>4.6</td>\n",
       "      <td>mb</td>\n",
       "      <td>NaN</td>\n",
       "      <td>77.0</td>\n",
       "      <td>1.186</td>\n",
       "      <td>0.75</td>\n",
       "      <td>...</td>\n",
       "      <td>75 km NE of Makubetsu, Japan</td>\n",
       "      <td>earthquake</td>\n",
       "      <td>9.7</td>\n",
       "      <td>7.1</td>\n",
       "      <td>0.031</td>\n",
       "      <td>312</td>\n",
       "      <td>reviewed</td>\n",
       "      <td>us</td>\n",
       "      <td>us</td>\n",
       "      <td>Safe</td>\n",
       "    </tr>\n",
       "    <tr>\n",
       "      <th>2533</th>\n",
       "      <td>2021-12-02T21:37:48.182Z</td>\n",
       "      <td>35.5609</td>\n",
       "      <td>138.9939</td>\n",
       "      <td>22.08</td>\n",
       "      <td>4.4</td>\n",
       "      <td>mwr</td>\n",
       "      <td>NaN</td>\n",
       "      <td>92.0</td>\n",
       "      <td>1.103</td>\n",
       "      <td>0.78</td>\n",
       "      <td>...</td>\n",
       "      <td>6 km SSE of ?tsuki, Japan</td>\n",
       "      <td>earthquake</td>\n",
       "      <td>3.3</td>\n",
       "      <td>4.6</td>\n",
       "      <td>0.075</td>\n",
       "      <td>17</td>\n",
       "      <td>reviewed</td>\n",
       "      <td>us</td>\n",
       "      <td>us</td>\n",
       "      <td>Safe</td>\n",
       "    </tr>\n",
       "    <tr>\n",
       "      <th>2534</th>\n",
       "      <td>2021-12-03T00:28:27.805Z</td>\n",
       "      <td>33.8302</td>\n",
       "      <td>135.0996</td>\n",
       "      <td>9.93</td>\n",
       "      <td>5.2</td>\n",
       "      <td>mww</td>\n",
       "      <td>NaN</td>\n",
       "      <td>61.0</td>\n",
       "      <td>1.023</td>\n",
       "      <td>0.59</td>\n",
       "      <td>...</td>\n",
       "      <td>8 km SW of Gob?, Japan</td>\n",
       "      <td>earthquake</td>\n",
       "      <td>2.5</td>\n",
       "      <td>4.0</td>\n",
       "      <td>0.098</td>\n",
       "      <td>10</td>\n",
       "      <td>reviewed</td>\n",
       "      <td>us</td>\n",
       "      <td>us</td>\n",
       "      <td>Precaution</td>\n",
       "    </tr>\n",
       "  </tbody>\n",
       "</table>\n",
       "<p>2535 rows × 23 columns</p>\n",
       "</div>"
      ],
      "text/plain": [
       "                          time  latitude  longitude   depth  mag magType  nst  \\\n",
       "0     2019-01-01T22:05:38.960Z   35.6831   140.2344   66.24  4.4      mb  NaN   \n",
       "1     2019-01-02T15:11:16.070Z   39.4417   143.6408   21.01  4.5      mb  NaN   \n",
       "2     2019-01-03T09:10:28.440Z   33.0514   130.4705   10.00  4.7      mb  NaN   \n",
       "3     2019-01-03T20:42:45.260Z   30.3888   138.0987  451.33  4.0      mb  NaN   \n",
       "4     2019-01-04T22:05:07.080Z   32.8198   140.1248   98.35  4.3      mb  NaN   \n",
       "...                        ...       ...        ...     ...  ...     ...  ...   \n",
       "2530  2021-12-02T09:40:40.365Z   35.2206   141.3344   26.93  4.5      mb  NaN   \n",
       "2531  2021-12-02T17:17:59.327Z   35.5454   139.0111   26.93  4.5      mb  NaN   \n",
       "2532  2021-12-02T20:49:15.003Z   45.7785   142.5889  315.88  4.6      mb  NaN   \n",
       "2533  2021-12-02T21:37:48.182Z   35.5609   138.9939   22.08  4.4     mwr  NaN   \n",
       "2534  2021-12-03T00:28:27.805Z   33.8302   135.0996    9.93  5.2     mww  NaN   \n",
       "\n",
       "        gap   dmin   rms  ...                         place        type  \\\n",
       "0     141.0  1.855  0.66  ...       3 km S of Sakura, Japan  earthquake   \n",
       "1     110.0  2.390  0.85  ...     145 km E of Yamada, Japan  earthquake   \n",
       "2      97.0  0.348  0.60  ...       2 km NE of ?muta, Japan  earthquake   \n",
       "3     113.0  3.085  0.75  ...     Izu Islands, Japan region  earthquake   \n",
       "4     147.0  0.394  0.46  ...  233 km SSE of Shimoda, Japan  earthquake   \n",
       "...     ...    ...   ...  ...                           ...         ...   \n",
       "2530  135.0  2.449  0.77  ...     72 km SE of Hasaki, Japan  earthquake   \n",
       "2531  114.0  1.100  0.76  ...     8 km SSE of ?tsuki, Japan  earthquake   \n",
       "2532   77.0  1.186  0.75  ...  75 km NE of Makubetsu, Japan  earthquake   \n",
       "2533   92.0  1.103  0.78  ...     6 km SSE of ?tsuki, Japan  earthquake   \n",
       "2534   61.0  1.023  0.59  ...        8 km SW of Gob?, Japan  earthquake   \n",
       "\n",
       "     horizontalError depthError magError  magNst    status  locationSource  \\\n",
       "0                2.9        8.6    0.115      22  reviewed              us   \n",
       "1                9.1        6.4    0.180       9  reviewed              us   \n",
       "2                4.9        1.8    0.075      54  reviewed              us   \n",
       "3               11.0        5.8    0.073      50  reviewed              us   \n",
       "4               12.0        4.7    0.080      44  reviewed              us   \n",
       "...              ...        ...      ...     ...       ...             ...   \n",
       "2530             5.7        5.6    0.140      15  reviewed              us   \n",
       "2531             4.6        5.0    0.106      26  reviewed              us   \n",
       "2532             9.7        7.1    0.031     312  reviewed              us   \n",
       "2533             3.3        4.6    0.075      17  reviewed              us   \n",
       "2534             2.5        4.0    0.098      10  reviewed              us   \n",
       "\n",
       "      magSource predictions  \n",
       "0            us        Safe  \n",
       "1            us        Safe  \n",
       "2            us        Safe  \n",
       "3            us        Safe  \n",
       "4            us        Safe  \n",
       "...         ...         ...  \n",
       "2530         us        Safe  \n",
       "2531         us        Safe  \n",
       "2532         us        Safe  \n",
       "2533         us        Safe  \n",
       "2534         us  Precaution  \n",
       "\n",
       "[2535 rows x 23 columns]"
      ]
     },
     "execution_count": 7,
     "metadata": {},
     "output_type": "execute_result"
    }
   ],
   "source": [
    "df\n"
   ]
  },
  {
   "cell_type": "code",
   "execution_count": 8,
   "metadata": {
    "id": "PC4_WkThARtd"
   },
   "outputs": [],
   "source": [
    "#data preprocessing\n",
    "#removing uneccesary columns\n",
    "updatedDf = df.drop(\"time\", axis=1)"
   ]
  },
  {
   "cell_type": "code",
   "execution_count": 9,
   "metadata": {
    "id": "AXH6NpFVBWsW"
   },
   "outputs": [],
   "source": [
    "updatedDf = updatedDf.drop(\"magType\", axis=1)"
   ]
  },
  {
   "cell_type": "code",
   "execution_count": 10,
   "metadata": {
    "id": "rU3KibmwBZCz"
   },
   "outputs": [],
   "source": [
    "updatedDf = updatedDf.drop(\"nst\", axis=1)"
   ]
  },
  {
   "cell_type": "code",
   "execution_count": 11,
   "metadata": {
    "id": "rW5q4ZjXBdBf"
   },
   "outputs": [],
   "source": [
    "updatedDf = updatedDf.drop(\"gap\", axis=1)"
   ]
  },
  {
   "cell_type": "code",
   "execution_count": 12,
   "metadata": {
    "id": "uYwQYHyHBfE6"
   },
   "outputs": [],
   "source": [
    "updatedDf = updatedDf.drop(\"dmin\", axis=1)"
   ]
  },
  {
   "cell_type": "code",
   "execution_count": 13,
   "metadata": {
    "id": "L3qFLOcVBhVy"
   },
   "outputs": [],
   "source": [
    "updatedDf = updatedDf.drop(\"net\", axis=1)"
   ]
  },
  {
   "cell_type": "code",
   "execution_count": 14,
   "metadata": {
    "id": "I6chGSN6BjbW"
   },
   "outputs": [],
   "source": [
    "updatedDf = updatedDf.drop(\"id\", axis=1)"
   ]
  },
  {
   "cell_type": "code",
   "execution_count": 15,
   "metadata": {
    "id": "nt-VfbamBljT"
   },
   "outputs": [],
   "source": [
    "updatedDf = updatedDf.drop(\"updated\", axis=1)"
   ]
  },
  {
   "cell_type": "code",
   "execution_count": 16,
   "metadata": {
    "id": "2huASKrVBodF"
   },
   "outputs": [],
   "source": [
    "updatedDf = updatedDf.drop(\"place\", axis=1)"
   ]
  },
  {
   "cell_type": "code",
   "execution_count": 17,
   "metadata": {
    "id": "FimjFVXtBqZz"
   },
   "outputs": [],
   "source": [
    "updatedDf = updatedDf.drop(\"type\", axis=1)"
   ]
  },
  {
   "cell_type": "code",
   "execution_count": 18,
   "metadata": {
    "id": "9CyvcIxCBsj0"
   },
   "outputs": [],
   "source": [
    "updatedDf = updatedDf.drop(\"status\", axis=1)"
   ]
  },
  {
   "cell_type": "code",
   "execution_count": 19,
   "metadata": {
    "id": "qYtP7hBoBuZu"
   },
   "outputs": [],
   "source": [
    "updatedDf = updatedDf.drop(\"magSource\", axis=1)"
   ]
  },
  {
   "cell_type": "code",
   "execution_count": 20,
   "metadata": {
    "id": "vqPrEn2KBwps"
   },
   "outputs": [],
   "source": [
    "updatedDf = updatedDf.drop(\"locationSource\", axis=1)"
   ]
  },
  {
   "cell_type": "code",
   "execution_count": 21,
   "metadata": {
    "colab": {
     "base_uri": "https://localhost:8080/",
     "height": 206
    },
    "id": "m7B-vPdSByqp",
    "outputId": "404de13b-0ed2-4a66-a43f-4860812e77c8"
   },
   "outputs": [
    {
     "data": {
      "text/html": [
       "<div>\n",
       "<style scoped>\n",
       "    .dataframe tbody tr th:only-of-type {\n",
       "        vertical-align: middle;\n",
       "    }\n",
       "\n",
       "    .dataframe tbody tr th {\n",
       "        vertical-align: top;\n",
       "    }\n",
       "\n",
       "    .dataframe thead th {\n",
       "        text-align: right;\n",
       "    }\n",
       "</style>\n",
       "<table border=\"1\" class=\"dataframe\">\n",
       "  <thead>\n",
       "    <tr style=\"text-align: right;\">\n",
       "      <th></th>\n",
       "      <th>latitude</th>\n",
       "      <th>longitude</th>\n",
       "      <th>depth</th>\n",
       "      <th>mag</th>\n",
       "      <th>rms</th>\n",
       "      <th>horizontalError</th>\n",
       "      <th>depthError</th>\n",
       "      <th>magError</th>\n",
       "      <th>magNst</th>\n",
       "      <th>predictions</th>\n",
       "    </tr>\n",
       "  </thead>\n",
       "  <tbody>\n",
       "    <tr>\n",
       "      <th>0</th>\n",
       "      <td>35.6831</td>\n",
       "      <td>140.2344</td>\n",
       "      <td>66.24</td>\n",
       "      <td>4.4</td>\n",
       "      <td>0.66</td>\n",
       "      <td>2.9</td>\n",
       "      <td>8.6</td>\n",
       "      <td>0.115</td>\n",
       "      <td>22</td>\n",
       "      <td>Safe</td>\n",
       "    </tr>\n",
       "    <tr>\n",
       "      <th>1</th>\n",
       "      <td>39.4417</td>\n",
       "      <td>143.6408</td>\n",
       "      <td>21.01</td>\n",
       "      <td>4.5</td>\n",
       "      <td>0.85</td>\n",
       "      <td>9.1</td>\n",
       "      <td>6.4</td>\n",
       "      <td>0.180</td>\n",
       "      <td>9</td>\n",
       "      <td>Safe</td>\n",
       "    </tr>\n",
       "    <tr>\n",
       "      <th>2</th>\n",
       "      <td>33.0514</td>\n",
       "      <td>130.4705</td>\n",
       "      <td>10.00</td>\n",
       "      <td>4.7</td>\n",
       "      <td>0.60</td>\n",
       "      <td>4.9</td>\n",
       "      <td>1.8</td>\n",
       "      <td>0.075</td>\n",
       "      <td>54</td>\n",
       "      <td>Safe</td>\n",
       "    </tr>\n",
       "    <tr>\n",
       "      <th>3</th>\n",
       "      <td>30.3888</td>\n",
       "      <td>138.0987</td>\n",
       "      <td>451.33</td>\n",
       "      <td>4.0</td>\n",
       "      <td>0.75</td>\n",
       "      <td>11.0</td>\n",
       "      <td>5.8</td>\n",
       "      <td>0.073</td>\n",
       "      <td>50</td>\n",
       "      <td>Safe</td>\n",
       "    </tr>\n",
       "    <tr>\n",
       "      <th>4</th>\n",
       "      <td>32.8198</td>\n",
       "      <td>140.1248</td>\n",
       "      <td>98.35</td>\n",
       "      <td>4.3</td>\n",
       "      <td>0.46</td>\n",
       "      <td>12.0</td>\n",
       "      <td>4.7</td>\n",
       "      <td>0.080</td>\n",
       "      <td>44</td>\n",
       "      <td>Safe</td>\n",
       "    </tr>\n",
       "  </tbody>\n",
       "</table>\n",
       "</div>"
      ],
      "text/plain": [
       "   latitude  longitude   depth  mag   rms  horizontalError  depthError  \\\n",
       "0   35.6831   140.2344   66.24  4.4  0.66              2.9         8.6   \n",
       "1   39.4417   143.6408   21.01  4.5  0.85              9.1         6.4   \n",
       "2   33.0514   130.4705   10.00  4.7  0.60              4.9         1.8   \n",
       "3   30.3888   138.0987  451.33  4.0  0.75             11.0         5.8   \n",
       "4   32.8198   140.1248   98.35  4.3  0.46             12.0         4.7   \n",
       "\n",
       "   magError  magNst predictions  \n",
       "0     0.115      22        Safe  \n",
       "1     0.180       9        Safe  \n",
       "2     0.075      54        Safe  \n",
       "3     0.073      50        Safe  \n",
       "4     0.080      44        Safe  "
      ]
     },
     "execution_count": 21,
     "metadata": {},
     "output_type": "execute_result"
    }
   ],
   "source": [
    "updatedDf.head()"
   ]
  },
  {
   "cell_type": "code",
   "execution_count": 22,
   "metadata": {
    "colab": {
     "base_uri": "https://localhost:8080/",
     "height": 206
    },
    "id": "nEFBnJOiB0pG",
    "outputId": "a3ffa0de-fce8-4144-87c6-839c3e013fcd"
   },
   "outputs": [
    {
     "data": {
      "text/html": [
       "<div>\n",
       "<style scoped>\n",
       "    .dataframe tbody tr th:only-of-type {\n",
       "        vertical-align: middle;\n",
       "    }\n",
       "\n",
       "    .dataframe tbody tr th {\n",
       "        vertical-align: top;\n",
       "    }\n",
       "\n",
       "    .dataframe thead th {\n",
       "        text-align: right;\n",
       "    }\n",
       "</style>\n",
       "<table border=\"1\" class=\"dataframe\">\n",
       "  <thead>\n",
       "    <tr style=\"text-align: right;\">\n",
       "      <th></th>\n",
       "      <th>latitude</th>\n",
       "      <th>longitude</th>\n",
       "      <th>depth</th>\n",
       "      <th>mag</th>\n",
       "      <th>rms</th>\n",
       "      <th>horizontalError</th>\n",
       "      <th>depthError</th>\n",
       "      <th>magError</th>\n",
       "      <th>magNst</th>\n",
       "      <th>predictions</th>\n",
       "    </tr>\n",
       "  </thead>\n",
       "  <tbody>\n",
       "    <tr>\n",
       "      <th>2530</th>\n",
       "      <td>35.2206</td>\n",
       "      <td>141.3344</td>\n",
       "      <td>26.93</td>\n",
       "      <td>4.5</td>\n",
       "      <td>0.77</td>\n",
       "      <td>5.7</td>\n",
       "      <td>5.6</td>\n",
       "      <td>0.140</td>\n",
       "      <td>15</td>\n",
       "      <td>Safe</td>\n",
       "    </tr>\n",
       "    <tr>\n",
       "      <th>2531</th>\n",
       "      <td>35.5454</td>\n",
       "      <td>139.0111</td>\n",
       "      <td>26.93</td>\n",
       "      <td>4.5</td>\n",
       "      <td>0.76</td>\n",
       "      <td>4.6</td>\n",
       "      <td>5.0</td>\n",
       "      <td>0.106</td>\n",
       "      <td>26</td>\n",
       "      <td>Safe</td>\n",
       "    </tr>\n",
       "    <tr>\n",
       "      <th>2532</th>\n",
       "      <td>45.7785</td>\n",
       "      <td>142.5889</td>\n",
       "      <td>315.88</td>\n",
       "      <td>4.6</td>\n",
       "      <td>0.75</td>\n",
       "      <td>9.7</td>\n",
       "      <td>7.1</td>\n",
       "      <td>0.031</td>\n",
       "      <td>312</td>\n",
       "      <td>Safe</td>\n",
       "    </tr>\n",
       "    <tr>\n",
       "      <th>2533</th>\n",
       "      <td>35.5609</td>\n",
       "      <td>138.9939</td>\n",
       "      <td>22.08</td>\n",
       "      <td>4.4</td>\n",
       "      <td>0.78</td>\n",
       "      <td>3.3</td>\n",
       "      <td>4.6</td>\n",
       "      <td>0.075</td>\n",
       "      <td>17</td>\n",
       "      <td>Safe</td>\n",
       "    </tr>\n",
       "    <tr>\n",
       "      <th>2534</th>\n",
       "      <td>33.8302</td>\n",
       "      <td>135.0996</td>\n",
       "      <td>9.93</td>\n",
       "      <td>5.2</td>\n",
       "      <td>0.59</td>\n",
       "      <td>2.5</td>\n",
       "      <td>4.0</td>\n",
       "      <td>0.098</td>\n",
       "      <td>10</td>\n",
       "      <td>Precaution</td>\n",
       "    </tr>\n",
       "  </tbody>\n",
       "</table>\n",
       "</div>"
      ],
      "text/plain": [
       "      latitude  longitude   depth  mag   rms  horizontalError  depthError  \\\n",
       "2530   35.2206   141.3344   26.93  4.5  0.77              5.7         5.6   \n",
       "2531   35.5454   139.0111   26.93  4.5  0.76              4.6         5.0   \n",
       "2532   45.7785   142.5889  315.88  4.6  0.75              9.7         7.1   \n",
       "2533   35.5609   138.9939   22.08  4.4  0.78              3.3         4.6   \n",
       "2534   33.8302   135.0996    9.93  5.2  0.59              2.5         4.0   \n",
       "\n",
       "      magError  magNst predictions  \n",
       "2530     0.140      15        Safe  \n",
       "2531     0.106      26        Safe  \n",
       "2532     0.031     312        Safe  \n",
       "2533     0.075      17        Safe  \n",
       "2534     0.098      10  Precaution  "
      ]
     },
     "execution_count": 22,
     "metadata": {},
     "output_type": "execute_result"
    }
   ],
   "source": [
    "updatedDf.tail()"
   ]
  },
  {
   "cell_type": "code",
   "execution_count": 23,
   "metadata": {
    "id": "vUbHHLT-B4QT"
   },
   "outputs": [],
   "source": [
    "# Label Encoding the target variable\n",
    "from sklearn.preprocessing import LabelEncoder\n",
    "le = LabelEncoder()"
   ]
  },
  {
   "cell_type": "code",
   "execution_count": 24,
   "metadata": {
    "id": "7fCBcfReCAjU"
   },
   "outputs": [],
   "source": [
    "updatedDf['predictions'] = le.fit_transform(updatedDf['predictions'])"
   ]
  },
  {
   "cell_type": "code",
   "execution_count": 25,
   "metadata": {
    "colab": {
     "base_uri": "https://localhost:8080/",
     "height": 206
    },
    "id": "ojpv46XrCC7o",
    "outputId": "6a8dc4b4-ee09-4221-d9ac-b34635f3743e"
   },
   "outputs": [
    {
     "data": {
      "text/html": [
       "<div>\n",
       "<style scoped>\n",
       "    .dataframe tbody tr th:only-of-type {\n",
       "        vertical-align: middle;\n",
       "    }\n",
       "\n",
       "    .dataframe tbody tr th {\n",
       "        vertical-align: top;\n",
       "    }\n",
       "\n",
       "    .dataframe thead th {\n",
       "        text-align: right;\n",
       "    }\n",
       "</style>\n",
       "<table border=\"1\" class=\"dataframe\">\n",
       "  <thead>\n",
       "    <tr style=\"text-align: right;\">\n",
       "      <th></th>\n",
       "      <th>latitude</th>\n",
       "      <th>longitude</th>\n",
       "      <th>depth</th>\n",
       "      <th>mag</th>\n",
       "      <th>rms</th>\n",
       "      <th>horizontalError</th>\n",
       "      <th>depthError</th>\n",
       "      <th>magError</th>\n",
       "      <th>magNst</th>\n",
       "      <th>predictions</th>\n",
       "    </tr>\n",
       "  </thead>\n",
       "  <tbody>\n",
       "    <tr>\n",
       "      <th>0</th>\n",
       "      <td>35.6831</td>\n",
       "      <td>140.2344</td>\n",
       "      <td>66.24</td>\n",
       "      <td>4.4</td>\n",
       "      <td>0.66</td>\n",
       "      <td>2.9</td>\n",
       "      <td>8.6</td>\n",
       "      <td>0.115</td>\n",
       "      <td>22</td>\n",
       "      <td>2</td>\n",
       "    </tr>\n",
       "    <tr>\n",
       "      <th>1</th>\n",
       "      <td>39.4417</td>\n",
       "      <td>143.6408</td>\n",
       "      <td>21.01</td>\n",
       "      <td>4.5</td>\n",
       "      <td>0.85</td>\n",
       "      <td>9.1</td>\n",
       "      <td>6.4</td>\n",
       "      <td>0.180</td>\n",
       "      <td>9</td>\n",
       "      <td>2</td>\n",
       "    </tr>\n",
       "    <tr>\n",
       "      <th>2</th>\n",
       "      <td>33.0514</td>\n",
       "      <td>130.4705</td>\n",
       "      <td>10.00</td>\n",
       "      <td>4.7</td>\n",
       "      <td>0.60</td>\n",
       "      <td>4.9</td>\n",
       "      <td>1.8</td>\n",
       "      <td>0.075</td>\n",
       "      <td>54</td>\n",
       "      <td>2</td>\n",
       "    </tr>\n",
       "    <tr>\n",
       "      <th>3</th>\n",
       "      <td>30.3888</td>\n",
       "      <td>138.0987</td>\n",
       "      <td>451.33</td>\n",
       "      <td>4.0</td>\n",
       "      <td>0.75</td>\n",
       "      <td>11.0</td>\n",
       "      <td>5.8</td>\n",
       "      <td>0.073</td>\n",
       "      <td>50</td>\n",
       "      <td>2</td>\n",
       "    </tr>\n",
       "    <tr>\n",
       "      <th>4</th>\n",
       "      <td>32.8198</td>\n",
       "      <td>140.1248</td>\n",
       "      <td>98.35</td>\n",
       "      <td>4.3</td>\n",
       "      <td>0.46</td>\n",
       "      <td>12.0</td>\n",
       "      <td>4.7</td>\n",
       "      <td>0.080</td>\n",
       "      <td>44</td>\n",
       "      <td>2</td>\n",
       "    </tr>\n",
       "  </tbody>\n",
       "</table>\n",
       "</div>"
      ],
      "text/plain": [
       "   latitude  longitude   depth  mag   rms  horizontalError  depthError  \\\n",
       "0   35.6831   140.2344   66.24  4.4  0.66              2.9         8.6   \n",
       "1   39.4417   143.6408   21.01  4.5  0.85              9.1         6.4   \n",
       "2   33.0514   130.4705   10.00  4.7  0.60              4.9         1.8   \n",
       "3   30.3888   138.0987  451.33  4.0  0.75             11.0         5.8   \n",
       "4   32.8198   140.1248   98.35  4.3  0.46             12.0         4.7   \n",
       "\n",
       "   magError  magNst  predictions  \n",
       "0     0.115      22            2  \n",
       "1     0.180       9            2  \n",
       "2     0.075      54            2  \n",
       "3     0.073      50            2  \n",
       "4     0.080      44            2  "
      ]
     },
     "execution_count": 25,
     "metadata": {},
     "output_type": "execute_result"
    }
   ],
   "source": [
    "updatedDf.head()"
   ]
  },
  {
   "cell_type": "code",
   "execution_count": 26,
   "metadata": {
    "colab": {
     "base_uri": "https://localhost:8080/",
     "height": 206
    },
    "id": "C5WkVDKCp1MQ",
    "outputId": "6916bd34-30cd-4daf-b964-ad150a36b6e4"
   },
   "outputs": [
    {
     "data": {
      "text/html": [
       "<div>\n",
       "<style scoped>\n",
       "    .dataframe tbody tr th:only-of-type {\n",
       "        vertical-align: middle;\n",
       "    }\n",
       "\n",
       "    .dataframe tbody tr th {\n",
       "        vertical-align: top;\n",
       "    }\n",
       "\n",
       "    .dataframe thead th {\n",
       "        text-align: right;\n",
       "    }\n",
       "</style>\n",
       "<table border=\"1\" class=\"dataframe\">\n",
       "  <thead>\n",
       "    <tr style=\"text-align: right;\">\n",
       "      <th></th>\n",
       "      <th>latitude</th>\n",
       "      <th>longitude</th>\n",
       "      <th>depth</th>\n",
       "      <th>mag</th>\n",
       "      <th>rms</th>\n",
       "      <th>horizontalError</th>\n",
       "      <th>depthError</th>\n",
       "      <th>magError</th>\n",
       "      <th>magNst</th>\n",
       "      <th>predictions</th>\n",
       "    </tr>\n",
       "  </thead>\n",
       "  <tbody>\n",
       "    <tr>\n",
       "      <th>2530</th>\n",
       "      <td>35.2206</td>\n",
       "      <td>141.3344</td>\n",
       "      <td>26.93</td>\n",
       "      <td>4.5</td>\n",
       "      <td>0.77</td>\n",
       "      <td>5.7</td>\n",
       "      <td>5.6</td>\n",
       "      <td>0.140</td>\n",
       "      <td>15</td>\n",
       "      <td>2</td>\n",
       "    </tr>\n",
       "    <tr>\n",
       "      <th>2531</th>\n",
       "      <td>35.5454</td>\n",
       "      <td>139.0111</td>\n",
       "      <td>26.93</td>\n",
       "      <td>4.5</td>\n",
       "      <td>0.76</td>\n",
       "      <td>4.6</td>\n",
       "      <td>5.0</td>\n",
       "      <td>0.106</td>\n",
       "      <td>26</td>\n",
       "      <td>2</td>\n",
       "    </tr>\n",
       "    <tr>\n",
       "      <th>2532</th>\n",
       "      <td>45.7785</td>\n",
       "      <td>142.5889</td>\n",
       "      <td>315.88</td>\n",
       "      <td>4.6</td>\n",
       "      <td>0.75</td>\n",
       "      <td>9.7</td>\n",
       "      <td>7.1</td>\n",
       "      <td>0.031</td>\n",
       "      <td>312</td>\n",
       "      <td>2</td>\n",
       "    </tr>\n",
       "    <tr>\n",
       "      <th>2533</th>\n",
       "      <td>35.5609</td>\n",
       "      <td>138.9939</td>\n",
       "      <td>22.08</td>\n",
       "      <td>4.4</td>\n",
       "      <td>0.78</td>\n",
       "      <td>3.3</td>\n",
       "      <td>4.6</td>\n",
       "      <td>0.075</td>\n",
       "      <td>17</td>\n",
       "      <td>2</td>\n",
       "    </tr>\n",
       "    <tr>\n",
       "      <th>2534</th>\n",
       "      <td>33.8302</td>\n",
       "      <td>135.0996</td>\n",
       "      <td>9.93</td>\n",
       "      <td>5.2</td>\n",
       "      <td>0.59</td>\n",
       "      <td>2.5</td>\n",
       "      <td>4.0</td>\n",
       "      <td>0.098</td>\n",
       "      <td>10</td>\n",
       "      <td>1</td>\n",
       "    </tr>\n",
       "  </tbody>\n",
       "</table>\n",
       "</div>"
      ],
      "text/plain": [
       "      latitude  longitude   depth  mag   rms  horizontalError  depthError  \\\n",
       "2530   35.2206   141.3344   26.93  4.5  0.77              5.7         5.6   \n",
       "2531   35.5454   139.0111   26.93  4.5  0.76              4.6         5.0   \n",
       "2532   45.7785   142.5889  315.88  4.6  0.75              9.7         7.1   \n",
       "2533   35.5609   138.9939   22.08  4.4  0.78              3.3         4.6   \n",
       "2534   33.8302   135.0996    9.93  5.2  0.59              2.5         4.0   \n",
       "\n",
       "      magError  magNst  predictions  \n",
       "2530     0.140      15            2  \n",
       "2531     0.106      26            2  \n",
       "2532     0.031     312            2  \n",
       "2533     0.075      17            2  \n",
       "2534     0.098      10            1  "
      ]
     },
     "execution_count": 26,
     "metadata": {},
     "output_type": "execute_result"
    }
   ],
   "source": [
    "updatedDf.tail()"
   ]
  },
  {
   "cell_type": "code",
   "execution_count": 27,
   "metadata": {
    "colab": {
     "base_uri": "https://localhost:8080/"
    },
    "id": "gCymPzJPCFde",
    "outputId": "1e3b56b1-e531-450e-aa71-1a41d67dbe7e"
   },
   "outputs": [
    {
     "data": {
      "text/plain": [
       "latitude           0\n",
       "longitude          0\n",
       "depth              0\n",
       "mag                0\n",
       "rms                0\n",
       "horizontalError    0\n",
       "depthError         0\n",
       "magError           1\n",
       "magNst             0\n",
       "predictions        0\n",
       "dtype: int64"
      ]
     },
     "execution_count": 27,
     "metadata": {},
     "output_type": "execute_result"
    }
   ],
   "source": [
    "updatedDf.isnull().sum()"
   ]
  },
  {
   "cell_type": "code",
   "execution_count": 28,
   "metadata": {
    "colab": {
     "base_uri": "https://localhost:8080/",
     "height": 206
    },
    "id": "tFyKBvDjCH4a",
    "outputId": "651c787c-58ba-4f00-c2d7-621cc9685557"
   },
   "outputs": [
    {
     "data": {
      "text/html": [
       "<div>\n",
       "<style scoped>\n",
       "    .dataframe tbody tr th:only-of-type {\n",
       "        vertical-align: middle;\n",
       "    }\n",
       "\n",
       "    .dataframe tbody tr th {\n",
       "        vertical-align: top;\n",
       "    }\n",
       "\n",
       "    .dataframe thead th {\n",
       "        text-align: right;\n",
       "    }\n",
       "</style>\n",
       "<table border=\"1\" class=\"dataframe\">\n",
       "  <thead>\n",
       "    <tr style=\"text-align: right;\">\n",
       "      <th></th>\n",
       "      <th>latitude</th>\n",
       "      <th>longitude</th>\n",
       "      <th>depth</th>\n",
       "      <th>mag</th>\n",
       "      <th>rms</th>\n",
       "      <th>horizontalError</th>\n",
       "      <th>depthError</th>\n",
       "      <th>magError</th>\n",
       "      <th>magNst</th>\n",
       "      <th>predictions</th>\n",
       "    </tr>\n",
       "  </thead>\n",
       "  <tbody>\n",
       "    <tr>\n",
       "      <th>0</th>\n",
       "      <td>35.6831</td>\n",
       "      <td>140.2344</td>\n",
       "      <td>66.24</td>\n",
       "      <td>4.4</td>\n",
       "      <td>0.66</td>\n",
       "      <td>2.9</td>\n",
       "      <td>8.6</td>\n",
       "      <td>0.115</td>\n",
       "      <td>22</td>\n",
       "      <td>2</td>\n",
       "    </tr>\n",
       "    <tr>\n",
       "      <th>1</th>\n",
       "      <td>39.4417</td>\n",
       "      <td>143.6408</td>\n",
       "      <td>21.01</td>\n",
       "      <td>4.5</td>\n",
       "      <td>0.85</td>\n",
       "      <td>9.1</td>\n",
       "      <td>6.4</td>\n",
       "      <td>0.180</td>\n",
       "      <td>9</td>\n",
       "      <td>2</td>\n",
       "    </tr>\n",
       "    <tr>\n",
       "      <th>2</th>\n",
       "      <td>33.0514</td>\n",
       "      <td>130.4705</td>\n",
       "      <td>10.00</td>\n",
       "      <td>4.7</td>\n",
       "      <td>0.60</td>\n",
       "      <td>4.9</td>\n",
       "      <td>1.8</td>\n",
       "      <td>0.075</td>\n",
       "      <td>54</td>\n",
       "      <td>2</td>\n",
       "    </tr>\n",
       "    <tr>\n",
       "      <th>3</th>\n",
       "      <td>30.3888</td>\n",
       "      <td>138.0987</td>\n",
       "      <td>451.33</td>\n",
       "      <td>4.0</td>\n",
       "      <td>0.75</td>\n",
       "      <td>11.0</td>\n",
       "      <td>5.8</td>\n",
       "      <td>0.073</td>\n",
       "      <td>50</td>\n",
       "      <td>2</td>\n",
       "    </tr>\n",
       "    <tr>\n",
       "      <th>4</th>\n",
       "      <td>32.8198</td>\n",
       "      <td>140.1248</td>\n",
       "      <td>98.35</td>\n",
       "      <td>4.3</td>\n",
       "      <td>0.46</td>\n",
       "      <td>12.0</td>\n",
       "      <td>4.7</td>\n",
       "      <td>0.080</td>\n",
       "      <td>44</td>\n",
       "      <td>2</td>\n",
       "    </tr>\n",
       "  </tbody>\n",
       "</table>\n",
       "</div>"
      ],
      "text/plain": [
       "   latitude  longitude   depth  mag   rms  horizontalError  depthError  \\\n",
       "0   35.6831   140.2344   66.24  4.4  0.66              2.9         8.6   \n",
       "1   39.4417   143.6408   21.01  4.5  0.85              9.1         6.4   \n",
       "2   33.0514   130.4705   10.00  4.7  0.60              4.9         1.8   \n",
       "3   30.3888   138.0987  451.33  4.0  0.75             11.0         5.8   \n",
       "4   32.8198   140.1248   98.35  4.3  0.46             12.0         4.7   \n",
       "\n",
       "   magError  magNst  predictions  \n",
       "0     0.115      22            2  \n",
       "1     0.180       9            2  \n",
       "2     0.075      54            2  \n",
       "3     0.073      50            2  \n",
       "4     0.080      44            2  "
      ]
     },
     "execution_count": 28,
     "metadata": {},
     "output_type": "execute_result"
    }
   ],
   "source": [
    "# Replace null value with mean\n",
    "updatedDf.magError = updatedDf.magError.fillna(updatedDf.magError.mean())\n",
    "updatedDf.head()"
   ]
  },
  {
   "cell_type": "code",
   "execution_count": 29,
   "metadata": {
    "colab": {
     "base_uri": "https://localhost:8080/"
    },
    "id": "36N75Ao6CKad",
    "outputId": "25f61c06-4d71-4407-855c-fc6fd4729588"
   },
   "outputs": [
    {
     "data": {
      "text/plain": [
       "latitude           0\n",
       "longitude          0\n",
       "depth              0\n",
       "mag                0\n",
       "rms                0\n",
       "horizontalError    0\n",
       "depthError         0\n",
       "magError           0\n",
       "magNst             0\n",
       "predictions        0\n",
       "dtype: int64"
      ]
     },
     "execution_count": 29,
     "metadata": {},
     "output_type": "execute_result"
    }
   ],
   "source": [
    " updatedDf.isnull().sum()"
   ]
  },
  {
   "cell_type": "code",
   "execution_count": 30,
   "metadata": {
    "id": "GkWQeB5YCNjU"
   },
   "outputs": [],
   "source": [
    "# X -> features, Y -> Target\n",
    "x = updatedDf.iloc[:, :-1].values\n",
    "y = updatedDf.iloc[:, -1].values"
   ]
  },
  {
   "cell_type": "code",
   "execution_count": 31,
   "metadata": {
    "colab": {
     "base_uri": "https://localhost:8080/"
    },
    "id": "BhO0tKEaCP6o",
    "outputId": "cdd64425-86b1-4181-ccce-9299d6c91deb"
   },
   "outputs": [
    {
     "data": {
      "text/plain": [
       "(2535, 9)"
      ]
     },
     "execution_count": 31,
     "metadata": {},
     "output_type": "execute_result"
    }
   ],
   "source": [
    "x.shape"
   ]
  },
  {
   "cell_type": "code",
   "execution_count": 32,
   "metadata": {
    "colab": {
     "base_uri": "https://localhost:8080/"
    },
    "id": "EHgVkvh0CSHC",
    "outputId": "e7137b23-a122-432a-a6d3-d9722d1df73b"
   },
   "outputs": [
    {
     "data": {
      "text/plain": [
       "(2535,)"
      ]
     },
     "execution_count": 32,
     "metadata": {},
     "output_type": "execute_result"
    }
   ],
   "source": [
    "y.shape"
   ]
  },
  {
   "cell_type": "code",
   "execution_count": 33,
   "metadata": {
    "id": "lcXw_bZ3CTWr"
   },
   "outputs": [],
   "source": [
    "# Using the elbow method to find the optimal number of clusters\n",
    "from sklearn.cluster import KMeans"
   ]
  },
  {
   "cell_type": "code",
   "execution_count": 34,
   "metadata": {
    "colab": {
     "base_uri": "https://localhost:8080/",
     "height": 295
    },
    "id": "Jl9yOMW9CVmX",
    "outputId": "188e3711-290d-444f-ace5-5c49b52d60e7"
   },
   "outputs": [
    {
     "name": "stderr",
     "output_type": "stream",
     "text": [
      "C:\\Users\\ahema\\anaconda3\\lib\\site-packages\\sklearn\\cluster\\_kmeans.py:1036: UserWarning: KMeans is known to have a memory leak on Windows with MKL, when there are less chunks than available threads. You can avoid it by setting the environment variable OMP_NUM_THREADS=10.\n",
      "  warnings.warn(\n"
     ]
    },
    {
     "data": {
      "image/png": "[encoded data removed]",
      "text/plain": [
       "<Figure size 432x288 with 1 Axes>"
      ]
     },
     "metadata": {
      "needs_background": "light"
     },
     "output_type": "display_data"
    }
   ],
   "source": [
    "\n",
    "#model building \n",
    "# K - Means Clustering Model\n",
    "wcss = []\n",
    "for i in range(1, 11):\n",
    "    kmeans = KMeans(n_clusters = i, init = 'k-means++', random_state = 0)\n",
    "    kmeans.fit(x)\n",
    "    wcss.append(kmeans.inertia_)\n",
    "plt.plot(range(1, 11), wcss)\n",
    "plt.title('The Elbow Method')\n",
    "plt.xlabel('Number of clusters')\n",
    "plt.ylabel('WCSS')\n",
    "plt.show()"
   ]
  },
  {
   "cell_type": "code",
   "execution_count": 35,
   "metadata": {
    "id": "eYwOruKcCX4r"
   },
   "outputs": [],
   "source": [
    "kmeans = KMeans(n_clusters = 3, init = 'k-means++', random_state = 42)\n",
    "y_kmeans = kmeans.fit_predict(x)"
   ]
  },
  {
   "cell_type": "code",
   "execution_count": 36,
   "metadata": {
    "colab": {
     "base_uri": "https://localhost:8080/"
    },
    "id": "SmoJORkjCais",
    "outputId": "7d40cdb1-6449-4afd-c4de-81a61e965e38"
   },
   "outputs": [
    {
     "data": {
      "text/plain": [
       "array([0, 0, 0, ..., 2, 0, 0])"
      ]
     },
     "execution_count": 36,
     "metadata": {},
     "output_type": "execute_result"
    }
   ],
   "source": [
    "y_kmeans"
   ]
  },
  {
   "cell_type": "code",
   "execution_count": 37,
   "metadata": {
    "colab": {
     "base_uri": "https://localhost:8080/",
     "height": 295
    },
    "id": "SC-KB9SvCdPY",
    "outputId": "6d7ce5ba-1029-44c3-871c-ef7ba8f53ca5"
   },
   "outputs": [
    {
     "data": {
      "image/png": "[encoded data removed]",
      "text/plain": [
       "<Figure size 432x288 with 1 Axes>"
      ]
     },
     "metadata": {
      "needs_background": "light"
     },
     "output_type": "display_data"
    }
   ],
   "source": [
    "# Visualising the clusters\n",
    "plt.scatter(x[y_kmeans == 0, 0], x[y_kmeans == 0, 1], s = 100, c = 'Red', label = 'DANGER')\n",
    "plt.scatter(x[y_kmeans == 1, 0], x[y_kmeans == 1, 1], s = 100, c = 'yellow', label = 'PRECAUTION')\n",
    "plt.scatter(x[y_kmeans == 2, 0], x[y_kmeans == 2, 1], s = 100, c = 'green', label = 'SAFE')\n",
    "\n",
    "plt.scatter(kmeans.cluster_centers_[:, 0], kmeans.cluster_centers_[:, 1], s = 200, c = 'blue', label = 'Centroids')\n",
    "plt.title('Clusters of earthquakes')\n",
    "plt.xlabel('Magnitudes')\n",
    "plt.ylabel('Predictions')\n",
    "plt.legend()\n",
    "plt.show()"
   ]
  },
  {
   "cell_type": "code",
   "execution_count": 38,
   "metadata": {
    "id": "oPF1ORLVCfdb"
   },
   "outputs": [],
   "source": [
    "# Train Test Split\n",
    "from sklearn.model_selection import train_test_split\n",
    "x_train, x_test, y_train, y_test = train_test_split(x, y, test_size = 0.2, random_state = 42)"
   ]
  },
  {
   "cell_type": "code",
   "execution_count": 39,
   "metadata": {
    "colab": {
     "base_uri": "https://localhost:8080/"
    },
    "id": "PfZdLJSxCi7a",
    "outputId": "8223e7b8-1019-4f97-962e-515e580e832d"
   },
   "outputs": [
    {
     "data": {
      "text/plain": [
       "(2028, 9)"
      ]
     },
     "execution_count": 39,
     "metadata": {},
     "output_type": "execute_result"
    }
   ],
   "source": [
    "x_train.shape"
   ]
  },
  {
   "cell_type": "code",
   "execution_count": 40,
   "metadata": {
    "colab": {
     "base_uri": "https://localhost:8080/"
    },
    "id": "yiMDakb5ClDe",
    "outputId": "ab4f7599-fdbd-408d-b60d-79bb718e7178"
   },
   "outputs": [
    {
     "data": {
      "text/plain": [
       "(2028,)"
      ]
     },
     "execution_count": 40,
     "metadata": {},
     "output_type": "execute_result"
    }
   ],
   "source": [
    "y_train.shape"
   ]
  },
  {
   "cell_type": "code",
   "execution_count": 41,
   "metadata": {
    "colab": {
     "base_uri": "https://localhost:8080/"
    },
    "id": "HUwxujV7CnNf",
    "outputId": "51a1259f-4b27-48a2-f163-3fbe93af4ae7"
   },
   "outputs": [
    {
     "data": {
      "text/plain": [
       "(507, 9)"
      ]
     },
     "execution_count": 41,
     "metadata": {},
     "output_type": "execute_result"
    }
   ],
   "source": [
    "x_test.shape"
   ]
  },
  {
   "cell_type": "code",
   "execution_count": 42,
   "metadata": {
    "colab": {
     "base_uri": "https://localhost:8080/"
    },
    "id": "M1FS0NWNCpKP",
    "outputId": "41bd20c1-e0e7-4913-db1c-45457d5eb1a7"
   },
   "outputs": [
    {
     "data": {
      "text/plain": [
       "(507,)"
      ]
     },
     "execution_count": 42,
     "metadata": {},
     "output_type": "execute_result"
    }
   ],
   "source": [
    "y_test.shape"
   ]
  },
  {
   "cell_type": "code",
   "execution_count": 43,
   "metadata": {
    "id": "aiFVJRDmCrOs"
   },
   "outputs": [],
   "source": [
    "from sklearn.preprocessing import StandardScaler\n",
    "sc = StandardScaler()\n",
    "x_train = sc.fit_transform(x_train)\n",
    "x_test = sc.transform(x_test)"
   ]
  },
  {
   "cell_type": "code",
   "execution_count": 44,
   "metadata": {
    "colab": {
     "base_uri": "https://localhost:8080/"
    },
    "id": "wcmFZJ6nCtpk",
    "outputId": "24c0da17-d1dc-4673-a302-44a3fe658767"
   },
   "outputs": [
    {
     "data": {
      "text/plain": [
       "KNeighborsClassifier()"
      ]
     },
     "execution_count": 44,
     "metadata": {},
     "output_type": "execute_result"
    }
   ],
   "source": [
    "# KNN -> Model\n",
    "from sklearn.neighbors import KNeighborsClassifier\n",
    "classifier = KNeighborsClassifier(n_neighbors = 5, metric = 'minkowski', p = 2)\n",
    "classifier.fit(x_train, y_train)"
   ]
  },
  {
   "cell_type": "code",
   "execution_count": 45,
   "metadata": {
    "id": "tavEuMdVCwyQ"
   },
   "outputs": [],
   "source": [
    "y_pred = classifier.predict(x_test)"
   ]
  },
  {
   "cell_type": "code",
   "execution_count": 46,
   "metadata": {
    "colab": {
     "base_uri": "https://localhost:8080/"
    },
    "id": "FKFidffICzVM",
    "outputId": "685e2e8c-fb98-46d0-eb5c-d42288e98b46"
   },
   "outputs": [
    {
     "name": "stdout",
     "output_type": "stream",
     "text": [
      "[[  2   1   0]\n",
      " [  0  33   6]\n",
      " [  0   6 459]]\n"
     ]
    },
    {
     "data": {
      "text/plain": [
       "0.9743589743589743"
      ]
     },
     "execution_count": 46,
     "metadata": {},
     "output_type": "execute_result"
    }
   ],
   "source": [
    "from sklearn.metrics import confusion_matrix, accuracy_score\n",
    "cm = confusion_matrix(y_test, y_pred)\n",
    "print(cm)\n",
    "accuracy_score(y_test, y_pred)"
   ]
  },
  {
   "cell_type": "code",
   "execution_count": 47,
   "metadata": {
    "id": "vOkVejAgG46s"
   },
   "outputs": [],
   "source": [
    "from sklearn.svm import LinearSVC\n",
    "from sklearn.datasets import make_classification"
   ]
  },
  {
   "cell_type": "code",
   "execution_count": 48,
   "metadata": {
    "id": "GXFmi449IL4l"
   },
   "outputs": [],
   "source": [
    "x, y = make_classification(n_samples=5000, n_features=10, \n",
    "                           n_classes=3, \n",
    "                           n_clusters_per_class=1)"
   ]
  },
  {
   "cell_type": "code",
   "execution_count": 49,
   "metadata": {
    "id": "4VRYWAPRIPDr"
   },
   "outputs": [],
   "source": [
    "xtrain, xtest, ytrain, ytest = train_test_split(x, y, test_size=0.15)"
   ]
  },
  {
   "cell_type": "code",
   "execution_count": 50,
   "metadata": {
    "colab": {
     "base_uri": "https://localhost:8080/"
    },
    "id": "Ar0uf9VCIVs_",
    "outputId": "cbacf16a-d5af-4ff7-a838-11fce2cdc94c"
   },
   "outputs": [
    {
     "name": "stdout",
     "output_type": "stream",
     "text": [
      "LinearSVC()\n"
     ]
    },
    {
     "data": {
      "text/plain": [
       "LinearSVC()"
      ]
     },
     "execution_count": 50,
     "metadata": {},
     "output_type": "execute_result"
    }
   ],
   "source": [
    "lsvc = LinearSVC(verbose=0)\n",
    "print(lsvc)\n",
    "\n",
    "LinearSVC(C=1.0, class_weight=None, dual=True, fit_intercept=True,\n",
    "          intercept_scaling=1, loss='squared_hinge', max_iter=1000,\n",
    "          multi_class='ovr', penalty='l2', random_state=None, tol=0.0001,\n",
    "          verbose=0)"
   ]
  },
  {
   "cell_type": "code",
   "execution_count": 51,
   "metadata": {
    "colab": {
     "base_uri": "https://localhost:8080/"
    },
    "id": "enzIEcJCIXui",
    "outputId": "268d3ffe-3a69-4703-ea31-9357c827e14a"
   },
   "outputs": [
    {
     "name": "stdout",
     "output_type": "stream",
     "text": [
      "Score:  0.9037647058823529\n"
     ]
    },
    {
     "name": "stderr",
     "output_type": "stream",
     "text": [
      "C:\\Users\\ahema\\anaconda3\\lib\\site-packages\\sklearn\\svm\\_base.py:1206: ConvergenceWarning: Liblinear failed to converge, increase the number of iterations.\n",
      "  warnings.warn(\n"
     ]
    }
   ],
   "source": [
    "lsvc.fit(xtrain, ytrain)\n",
    "score = lsvc.score(xtrain, ytrain)\n",
    "print(\"Score: \", score)"
   ]
  },
  {
   "cell_type": "code",
   "execution_count": 52,
   "metadata": {
    "id": "asrLSERPIZ_Y"
   },
   "outputs": [],
   "source": [
    "from sklearn.cluster import SpectralClustering"
   ]
  },
  {
   "cell_type": "code",
   "execution_count": 53,
   "metadata": {
    "id": "W9jK45dZJlHk"
   },
   "outputs": [],
   "source": [
    "\n",
    "spectral_cluster_model= SpectralClustering(\n",
    "    n_clusters=3, \n",
    "    random_state=25, \n",
    "    n_neighbors=10, \n",
    "    affinity='nearest_neighbors'\n",
    ")"
   ]
  },
  {
   "cell_type": "code",
   "execution_count": 54,
   "metadata": {
    "id": "tSuvD24gJnRp"
   },
   "outputs": [],
   "source": [
    "updatedDf['predictions'] = updatedDf['predictions'].astype(float)"
   ]
  },
  {
   "cell_type": "code",
   "execution_count": 55,
   "metadata": {
    "colab": {
     "base_uri": "https://localhost:8080/"
    },
    "id": "KzthDQqXJqhy",
    "outputId": "dcc0125d-bbe4-45e3-f4da-91113d4d682d"
   },
   "outputs": [
    {
     "name": "stderr",
     "output_type": "stream",
     "text": [
      "C:\\Users\\ahema\\anaconda3\\lib\\site-packages\\sklearn\\manifold\\_spectral_embedding.py:260: UserWarning: Graph is not fully connected, spectral embedding may not work as expected.\n",
      "  warnings.warn(\n"
     ]
    }
   ],
   "source": [
    "updatedDf['cluster'] = spectral_cluster_model.fit_predict(updatedDf[['mag', 'predictions']])"
   ]
  },
  {
   "cell_type": "code",
   "execution_count": 56,
   "metadata": {
    "colab": {
     "base_uri": "https://localhost:8080/",
     "height": 312
    },
    "id": "oAkmPrUYJumC",
    "outputId": "6420293c-15ce-41ee-bb67-2801fa6bc6d1"
   },
   "outputs": [
    {
     "data": {
      "text/plain": [
       "[Text(0.5, 1.0, 'Spectral Clustering')]"
      ]
     },
     "execution_count": 56,
     "metadata": {},
     "output_type": "execute_result"
    },
    {
     "data": {
      "image/png": "[encoded data removed]",
      "text/plain": [
       "<Figure size 432x288 with 1 Axes>"
      ]
     },
     "metadata": {
      "needs_background": "light"
     },
     "output_type": "display_data"
    }
   ],
   "source": [
    "fig, ax = plt.subplots()\n",
    "sns.scatterplot(x='mag', y='predictions', data=df, ax=ax)\n",
    "ax.set(title='Spectral Clustering')"
   ]
  },
  {
   "cell_type": "code",
   "execution_count": 57,
   "metadata": {},
   "outputs": [],
   "source": [
    "updatedDf = updatedDf.drop(\"horizontalError\", axis=1)"
   ]
  },
  {
   "cell_type": "code",
   "execution_count": 58,
   "metadata": {},
   "outputs": [],
   "source": [
    "updatedDf = updatedDf.drop(\"depthError\", axis=1)"
   ]
  },
  {
   "cell_type": "code",
   "execution_count": 59,
   "metadata": {},
   "outputs": [],
   "source": [
    "updatedDf = updatedDf.drop(\"rms\", axis=1)"
   ]
  },
  {
   "cell_type": "code",
   "execution_count": 60,
   "metadata": {},
   "outputs": [],
   "source": [
    "updatedDf = updatedDf.drop(\"magError\", axis=1)"
   ]
  },
  {
   "cell_type": "code",
   "execution_count": 61,
   "metadata": {},
   "outputs": [],
   "source": [
    "updatedDf = updatedDf.drop(\"magNst\", axis=1)\n"
   ]
  },
  {
   "cell_type": "code",
   "execution_count": 62,
   "metadata": {},
   "outputs": [],
   "source": [
    "updatedDf = updatedDf.drop(\"cluster\", axis=1)\n"
   ]
  },
  {
   "cell_type": "code",
   "execution_count": 63,
   "metadata": {},
   "outputs": [
    {
     "data": {
      "text/html": [
       "<div>\n",
       "<style scoped>\n",
       "    .dataframe tbody tr th:only-of-type {\n",
       "        vertical-align: middle;\n",
       "    }\n",
       "\n",
       "    .dataframe tbody tr th {\n",
       "        vertical-align: top;\n",
       "    }\n",
       "\n",
       "    .dataframe thead th {\n",
       "        text-align: right;\n",
       "    }\n",
       "</style>\n",
       "<table border=\"1\" class=\"dataframe\">\n",
       "  <thead>\n",
       "    <tr style=\"text-align: right;\">\n",
       "      <th></th>\n",
       "      <th>latitude</th>\n",
       "      <th>longitude</th>\n",
       "      <th>depth</th>\n",
       "      <th>mag</th>\n",
       "      <th>predictions</th>\n",
       "    </tr>\n",
       "  </thead>\n",
       "  <tbody>\n",
       "    <tr>\n",
       "      <th>0</th>\n",
       "      <td>35.6831</td>\n",
       "      <td>140.2344</td>\n",
       "      <td>66.24</td>\n",
       "      <td>4.4</td>\n",
       "      <td>2.0</td>\n",
       "    </tr>\n",
       "    <tr>\n",
       "      <th>1</th>\n",
       "      <td>39.4417</td>\n",
       "      <td>143.6408</td>\n",
       "      <td>21.01</td>\n",
       "      <td>4.5</td>\n",
       "      <td>2.0</td>\n",
       "    </tr>\n",
       "    <tr>\n",
       "      <th>2</th>\n",
       "      <td>33.0514</td>\n",
       "      <td>130.4705</td>\n",
       "      <td>10.00</td>\n",
       "      <td>4.7</td>\n",
       "      <td>2.0</td>\n",
       "    </tr>\n",
       "    <tr>\n",
       "      <th>3</th>\n",
       "      <td>30.3888</td>\n",
       "      <td>138.0987</td>\n",
       "      <td>451.33</td>\n",
       "      <td>4.0</td>\n",
       "      <td>2.0</td>\n",
       "    </tr>\n",
       "    <tr>\n",
       "      <th>4</th>\n",
       "      <td>32.8198</td>\n",
       "      <td>140.1248</td>\n",
       "      <td>98.35</td>\n",
       "      <td>4.3</td>\n",
       "      <td>2.0</td>\n",
       "    </tr>\n",
       "    <tr>\n",
       "      <th>...</th>\n",
       "      <td>...</td>\n",
       "      <td>...</td>\n",
       "      <td>...</td>\n",
       "      <td>...</td>\n",
       "      <td>...</td>\n",
       "    </tr>\n",
       "    <tr>\n",
       "      <th>2530</th>\n",
       "      <td>35.2206</td>\n",
       "      <td>141.3344</td>\n",
       "      <td>26.93</td>\n",
       "      <td>4.5</td>\n",
       "      <td>2.0</td>\n",
       "    </tr>\n",
       "    <tr>\n",
       "      <th>2531</th>\n",
       "      <td>35.5454</td>\n",
       "      <td>139.0111</td>\n",
       "      <td>26.93</td>\n",
       "      <td>4.5</td>\n",
       "      <td>2.0</td>\n",
       "    </tr>\n",
       "    <tr>\n",
       "      <th>2532</th>\n",
       "      <td>45.7785</td>\n",
       "      <td>142.5889</td>\n",
       "      <td>315.88</td>\n",
       "      <td>4.6</td>\n",
       "      <td>2.0</td>\n",
       "    </tr>\n",
       "    <tr>\n",
       "      <th>2533</th>\n",
       "      <td>35.5609</td>\n",
       "      <td>138.9939</td>\n",
       "      <td>22.08</td>\n",
       "      <td>4.4</td>\n",
       "      <td>2.0</td>\n",
       "    </tr>\n",
       "    <tr>\n",
       "      <th>2534</th>\n",
       "      <td>33.8302</td>\n",
       "      <td>135.0996</td>\n",
       "      <td>9.93</td>\n",
       "      <td>5.2</td>\n",
       "      <td>1.0</td>\n",
       "    </tr>\n",
       "  </tbody>\n",
       "</table>\n",
       "<p>2535 rows × 5 columns</p>\n",
       "</div>"
      ],
      "text/plain": [
       "      latitude  longitude   depth  mag  predictions\n",
       "0      35.6831   140.2344   66.24  4.4          2.0\n",
       "1      39.4417   143.6408   21.01  4.5          2.0\n",
       "2      33.0514   130.4705   10.00  4.7          2.0\n",
       "3      30.3888   138.0987  451.33  4.0          2.0\n",
       "4      32.8198   140.1248   98.35  4.3          2.0\n",
       "...        ...        ...     ...  ...          ...\n",
       "2530   35.2206   141.3344   26.93  4.5          2.0\n",
       "2531   35.5454   139.0111   26.93  4.5          2.0\n",
       "2532   45.7785   142.5889  315.88  4.6          2.0\n",
       "2533   35.5609   138.9939   22.08  4.4          2.0\n",
       "2534   33.8302   135.0996    9.93  5.2          1.0\n",
       "\n",
       "[2535 rows x 5 columns]"
      ]
     },
     "execution_count": 63,
     "metadata": {},
     "output_type": "execute_result"
    }
   ],
   "source": [
    "updatedDf"
   ]
  },
  {
   "cell_type": "code",
   "execution_count": 64,
   "metadata": {},
   "outputs": [],
   "source": [
    "X=updatedDf.iloc[:,:-1]\n",
    "y=updatedDf.iloc[:,-1]"
   ]
  },
  {
   "cell_type": "code",
   "execution_count": 65,
   "metadata": {},
   "outputs": [],
   "source": [
    "from sklearn.model_selection import train_test_split"
   ]
  },
  {
   "cell_type": "code",
   "execution_count": 66,
   "metadata": {},
   "outputs": [],
   "source": [
    "X_train,X_test,y_train,y_test=train_test_split(X,y,random_state=0,test_size=0.3)"
   ]
  },
  {
   "cell_type": "code",
   "execution_count": 67,
   "metadata": {},
   "outputs": [
    {
     "data": {
      "text/html": [
       "<div>\n",
       "<style scoped>\n",
       "    .dataframe tbody tr th:only-of-type {\n",
       "        vertical-align: middle;\n",
       "    }\n",
       "\n",
       "    .dataframe tbody tr th {\n",
       "        vertical-align: top;\n",
       "    }\n",
       "\n",
       "    .dataframe thead th {\n",
       "        text-align: right;\n",
       "    }\n",
       "</style>\n",
       "<table border=\"1\" class=\"dataframe\">\n",
       "  <thead>\n",
       "    <tr style=\"text-align: right;\">\n",
       "      <th></th>\n",
       "      <th>latitude</th>\n",
       "      <th>longitude</th>\n",
       "      <th>depth</th>\n",
       "      <th>mag</th>\n",
       "    </tr>\n",
       "  </thead>\n",
       "  <tbody>\n",
       "    <tr>\n",
       "      <th>1919</th>\n",
       "      <td>27.6974</td>\n",
       "      <td>139.9898</td>\n",
       "      <td>492.44</td>\n",
       "      <td>4.1</td>\n",
       "    </tr>\n",
       "    <tr>\n",
       "      <th>359</th>\n",
       "      <td>37.2462</td>\n",
       "      <td>134.9600</td>\n",
       "      <td>374.01</td>\n",
       "      <td>4.0</td>\n",
       "    </tr>\n",
       "    <tr>\n",
       "      <th>369</th>\n",
       "      <td>43.1475</td>\n",
       "      <td>142.6118</td>\n",
       "      <td>128.98</td>\n",
       "      <td>4.3</td>\n",
       "    </tr>\n",
       "    <tr>\n",
       "      <th>309</th>\n",
       "      <td>29.9776</td>\n",
       "      <td>142.4918</td>\n",
       "      <td>10.00</td>\n",
       "      <td>4.5</td>\n",
       "    </tr>\n",
       "    <tr>\n",
       "      <th>2352</th>\n",
       "      <td>28.1560</td>\n",
       "      <td>139.7932</td>\n",
       "      <td>407.15</td>\n",
       "      <td>4.1</td>\n",
       "    </tr>\n",
       "    <tr>\n",
       "      <th>...</th>\n",
       "      <td>...</td>\n",
       "      <td>...</td>\n",
       "      <td>...</td>\n",
       "      <td>...</td>\n",
       "    </tr>\n",
       "    <tr>\n",
       "      <th>1033</th>\n",
       "      <td>27.6650</td>\n",
       "      <td>140.0144</td>\n",
       "      <td>485.86</td>\n",
       "      <td>4.1</td>\n",
       "    </tr>\n",
       "    <tr>\n",
       "      <th>1731</th>\n",
       "      <td>38.6524</td>\n",
       "      <td>141.9340</td>\n",
       "      <td>50.08</td>\n",
       "      <td>4.1</td>\n",
       "    </tr>\n",
       "    <tr>\n",
       "      <th>763</th>\n",
       "      <td>43.4384</td>\n",
       "      <td>147.6467</td>\n",
       "      <td>10.00</td>\n",
       "      <td>4.6</td>\n",
       "    </tr>\n",
       "    <tr>\n",
       "      <th>835</th>\n",
       "      <td>26.1270</td>\n",
       "      <td>128.4200</td>\n",
       "      <td>10.00</td>\n",
       "      <td>4.5</td>\n",
       "    </tr>\n",
       "    <tr>\n",
       "      <th>1653</th>\n",
       "      <td>39.8607</td>\n",
       "      <td>141.7574</td>\n",
       "      <td>51.33</td>\n",
       "      <td>4.3</td>\n",
       "    </tr>\n",
       "  </tbody>\n",
       "</table>\n",
       "<p>1774 rows × 4 columns</p>\n",
       "</div>"
      ],
      "text/plain": [
       "      latitude  longitude   depth  mag\n",
       "1919   27.6974   139.9898  492.44  4.1\n",
       "359    37.2462   134.9600  374.01  4.0\n",
       "369    43.1475   142.6118  128.98  4.3\n",
       "309    29.9776   142.4918   10.00  4.5\n",
       "2352   28.1560   139.7932  407.15  4.1\n",
       "...        ...        ...     ...  ...\n",
       "1033   27.6650   140.0144  485.86  4.1\n",
       "1731   38.6524   141.9340   50.08  4.1\n",
       "763    43.4384   147.6467   10.00  4.6\n",
       "835    26.1270   128.4200   10.00  4.5\n",
       "1653   39.8607   141.7574   51.33  4.3\n",
       "\n",
       "[1774 rows x 4 columns]"
      ]
     },
     "execution_count": 67,
     "metadata": {},
     "output_type": "execute_result"
    }
   ],
   "source": [
    "X_train"
   ]
  },
  {
   "cell_type": "code",
   "execution_count": 68,
   "metadata": {},
   "outputs": [
    {
     "data": {
      "text/plain": [
       "((1774, 4), (1774,), (761, 4), (761,))"
      ]
     },
     "execution_count": 68,
     "metadata": {},
     "output_type": "execute_result"
    }
   ],
   "source": [
    "X_train.shape,y_train.shape,X_test.shape,y_test.shape"
   ]
  },
  {
   "cell_type": "code",
   "execution_count": 69,
   "metadata": {
    "id": "ZMS6UsttJxvE"
   },
   "outputs": [
    {
     "data": {
      "text/plain": [
       "RandomForestClassifier()"
      ]
     },
     "execution_count": 69,
     "metadata": {},
     "output_type": "execute_result"
    }
   ],
   "source": [
    "from sklearn.ensemble import RandomForestClassifier\n",
    "\n",
    "#Create a Gaussian Classifier\n",
    "clf=RandomForestClassifier(n_estimators=100)\n",
    "\n",
    "\n",
    "clf.fit(X_train,y_train)\n"
   ]
  },
  {
   "cell_type": "code",
   "execution_count": 70,
   "metadata": {},
   "outputs": [],
   "source": [
    "y_pred=clf.predict(X_test)"
   ]
  },
  {
   "cell_type": "code",
   "execution_count": 71,
   "metadata": {
    "colab": {
     "base_uri": "https://localhost:8080/"
    },
    "id": "dhFRYhnYKgYY",
    "outputId": "0856acb5-b7d3-4cf9-d7fd-a467b249294d"
   },
   "outputs": [
    {
     "name": "stdout",
     "output_type": "stream",
     "text": [
      "Accuracy: 1.0\n"
     ]
    }
   ],
   "source": [
    "from sklearn import metrics\n",
    "print(\"Accuracy:\",metrics.accuracy_score(y_test, y_pred))"
   ]
  },
  {
   "cell_type": "code",
   "execution_count": 72,
   "metadata": {
    "id": "NQZPTL8WUN8q"
   },
   "outputs": [],
   "source": [
    "import pickle as pkl"
   ]
  },
  {
   "cell_type": "code",
   "execution_count": 73,
   "metadata": {},
   "outputs": [
    {
     "data": {
      "text/plain": [
       "['clf_pickle.pkl']"
      ]
     },
     "execution_count": 73,
     "metadata": {},
     "output_type": "execute_result"
    }
   ],
   "source": [
    "import joblib\n",
    "joblib.dump(clf,'clf_pickle.pkl')"
   ]
  },
  {
   "cell_type": "code",
   "execution_count": 74,
   "metadata": {},
   "outputs": [],
   "source": [
    "model=joblib.load('clf_pickle.pkl')"
   ]
  },
  {
   "cell_type": "code",
   "execution_count": 75,
   "metadata": {},
   "outputs": [],
   "source": [
    "y_prediction=model.predict(X_test)"
   ]
  },
  {
   "cell_type": "code",
   "execution_count": 76,
   "metadata": {},
   "outputs": [],
   "source": [
    "from sklearn.metrics import classification_report,confusion_matrix,confusion_matrix"
   ]
  },
  {
   "cell_type": "code",
   "execution_count": 77,
   "metadata": {},
   "outputs": [
    {
     "name": "stdout",
     "output_type": "stream",
     "text": [
      "              precision    recall  f1-score   support\n",
      "\n",
      "         0.0       1.00      1.00      1.00         4\n",
      "         1.0       1.00      1.00      1.00        80\n",
      "         2.0       1.00      1.00      1.00       677\n",
      "\n",
      "    accuracy                           1.00       761\n",
      "   macro avg       1.00      1.00      1.00       761\n",
      "weighted avg       1.00      1.00      1.00       761\n",
      "\n"
     ]
    }
   ],
   "source": [
    "print(classification_report(y_test,y_prediction))"
   ]
  },
  {
   "cell_type": "code",
   "execution_count": 78,
   "metadata": {},
   "outputs": [
    {
     "data": {
      "text/plain": [
       "['tfidf_pickle.pkl']"
      ]
     },
     "execution_count": 78,
     "metadata": {},
     "output_type": "execute_result"
    }
   ],
   "source": [
    "joblib.dump(clf,'tfidf_pickle.pkl')"
   ]
  },
  {
   "cell_type": "code",
   "execution_count": null,
   "metadata": {},
   "outputs": [],
   "source": []
  },
  {
   "cell_type": "code",
   "execution_count": null,
   "metadata": {},
   "outputs": [],
   "source": []
  },
  {
   "cell_type": "code",
   "execution_count": null,
   "metadata": {},
   "outputs": [],
   "source": []
  },
  {
   "cell_type": "code",
   "execution_count": null,
   "metadata": {},
   "outputs": [],
   "source": []
  },
  {
   "cell_type": "code",
   "execution_count": null,
   "metadata": {},
   "outputs": [],
   "source": []
  },
  {
   "cell_type": "code",
   "execution_count": null,
   "metadata": {},
   "outputs": [],
   "source": []
  },
  {
   "cell_type": "code",
   "execution_count": null,
   "metadata": {},
   "outputs": [],
   "source": []
  },
  {
   "cell_type": "code",
   "execution_count": null,
   "metadata": {},
   "outputs": [],
   "source": []
  }
 ],
 "metadata": {
  "colab": {
   "provenance": []
  },
  "kernelspec": {
   "display_name": "Python 3 (ipykernel)",
   "language": "python",
   "name": "python3"
  },
  "language_info": {
   "codemirror_mode": {
    "name": "ipython",
    "version": 3
   },
   "file_extension": ".py",
   "mimetype": "text/x-python",
   "name": "python",
   "nbconvert_exporter": "python",
   "pygments_lexer": "ipython3",
   "version": "3.9.12"
  }
 },
 "nbformat": 4,
 "nbformat_minor": 1
}
